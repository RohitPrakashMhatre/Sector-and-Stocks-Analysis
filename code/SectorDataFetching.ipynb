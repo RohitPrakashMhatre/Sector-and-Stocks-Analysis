{
 "cells": [
  {
   "cell_type": "code",
   "execution_count": 27,
   "id": "3886b4df-adb4-4217-bfb5-f49e4c54ff3f",
   "metadata": {},
   "outputs": [],
   "source": [
    "import pandas as pd\n",
    "import numpy as np\n",
    "import yfinance as yf\n",
    "import datetime as dt\n",
    "import joblib"
   ]
  },
  {
   "cell_type": "code",
   "execution_count": 28,
   "id": "69b487fa-5faf-45e9-9d7e-f059f5481afe",
   "metadata": {},
   "outputs": [],
   "source": [
    "data = pd.read_csv(\"C:\\\\Users\\\\Rohit Mhatre\\\\Downloads\\\\UPDATED SECTOR 2mar.csv\")\n",
    "data.drop('Unnamed: 0',axis=1,inplace=True)"
   ]
  },
  {
   "cell_type": "code",
   "execution_count": 29,
   "id": "ad59cbe5-1033-4ebb-b8f0-1f08b1ffb6e9",
   "metadata": {},
   "outputs": [
    {
     "name": "stdout",
     "output_type": "stream",
     "text": [
      "(1756, 3)\n"
     ]
    },
    {
     "data": {
      "text/html": [
       "<div>\n",
       "<style scoped>\n",
       "    .dataframe tbody tr th:only-of-type {\n",
       "        vertical-align: middle;\n",
       "    }\n",
       "\n",
       "    .dataframe tbody tr th {\n",
       "        vertical-align: top;\n",
       "    }\n",
       "\n",
       "    .dataframe thead th {\n",
       "        text-align: right;\n",
       "    }\n",
       "</style>\n",
       "<table border=\"1\" class=\"dataframe\">\n",
       "  <thead>\n",
       "    <tr style=\"text-align: right;\">\n",
       "      <th></th>\n",
       "      <th>SYMBOL</th>\n",
       "      <th>Sector</th>\n",
       "      <th>NSE CODE</th>\n",
       "    </tr>\n",
       "  </thead>\n",
       "  <tbody>\n",
       "    <tr>\n",
       "      <th>0</th>\n",
       "      <td>GRINDWELL:NS</td>\n",
       "      <td>ABRASIVES</td>\n",
       "      <td>NSE:GRINDWELL,</td>\n",
       "    </tr>\n",
       "    <tr>\n",
       "      <th>1</th>\n",
       "      <td>CARBORUNIV:NS</td>\n",
       "      <td>ABRASIVES</td>\n",
       "      <td>NSE:CARBORUNIV,</td>\n",
       "    </tr>\n",
       "    <tr>\n",
       "      <th>2</th>\n",
       "      <td>WENDT:NS</td>\n",
       "      <td>ABRASIVES</td>\n",
       "      <td>NSE:WENDT,</td>\n",
       "    </tr>\n",
       "    <tr>\n",
       "      <th>3</th>\n",
       "      <td>BBTC:NS</td>\n",
       "      <td>AGRICULTURE</td>\n",
       "      <td>NSE:BBTC,</td>\n",
       "    </tr>\n",
       "    <tr>\n",
       "      <th>4</th>\n",
       "      <td>BSHSL:NS</td>\n",
       "      <td>AGRICULTURE</td>\n",
       "      <td>NSE:BSHSL,</td>\n",
       "    </tr>\n",
       "  </tbody>\n",
       "</table>\n",
       "</div>"
      ],
      "text/plain": [
       "          SYMBOL       Sector         NSE CODE\n",
       "0   GRINDWELL:NS    ABRASIVES   NSE:GRINDWELL,\n",
       "1  CARBORUNIV:NS    ABRASIVES  NSE:CARBORUNIV,\n",
       "2       WENDT:NS    ABRASIVES       NSE:WENDT,\n",
       "3        BBTC:NS  AGRICULTURE        NSE:BBTC,\n",
       "4       BSHSL:NS  AGRICULTURE       NSE:BSHSL,"
      ]
     },
     "execution_count": 29,
     "metadata": {},
     "output_type": "execute_result"
    }
   ],
   "source": [
    "df = data.copy()\n",
    "print(df.shape)\n",
    "df.head()"
   ]
  },
  {
   "cell_type": "code",
   "execution_count": 30,
   "id": "bf7d8101-73ef-49a5-a1aa-514e44b35cb7",
   "metadata": {},
   "outputs": [],
   "source": [
    "df['SYMBOL'] = df['SYMBOL'].str.replace(':','.')\n",
    "df.set_index(df['SYMBOL'],inplace=True)\n",
    "df.drop('SYMBOL',axis=1,inplace=True)"
   ]
  },
  {
   "cell_type": "code",
   "execution_count": 31,
   "id": "4c5b3a0c-9240-4e17-82b9-882a5fafcaf6",
   "metadata": {},
   "outputs": [],
   "source": [
    "df['base'] = np.nan\n",
    "\n",
    "for i in range(1,10):\n",
    "    df[f\"Week {i}\"] = np.nan"
   ]
  },
  {
   "cell_type": "markdown",
   "id": "551a0ff6-491b-4513-8ac6-eafa6042b6c1",
   "metadata": {},
   "source": [
    "Below are the important dates we needed to fetch the closing price of thier. Note- (This dates are provided by skateholder)"
   ]
  },
  {
   "cell_type": "code",
   "execution_count": 32,
   "id": "323834c0-d4ba-4b8c-a63d-262069f5aa28",
   "metadata": {},
   "outputs": [],
   "source": [
    "dates = [\"2024-09-27\",\"2025-02-05\", \"2025-01-27\",\"2025-01-02\",'2024-12-20','2024-12-05','2024-11-21','2024-11-07','2024-10-15','2024-09-27']"
   ]
  },
  {
   "cell_type": "code",
   "execution_count": 33,
   "id": "e6cac423-ff44-485a-8fb9-842ecc45b38b",
   "metadata": {},
   "outputs": [
    {
     "name": "stderr",
     "output_type": "stream",
     "text": [
      "$IIFLSEC.NS: possibly delisted; no price data found  (period=1y) (Yahoo error = \"No data found, symbol may be delisted\")\n"
     ]
    }
   ],
   "source": [
    "for sym in df.index:\n",
    "    try:\n",
    "        stock = yf.Ticker(sym)\n",
    "        hist = stock.history(period='1y')\n",
    "        \n",
    "        for date,week in zip(dates,['base','Week 1','Week 2','Week 3','Week 4','Week 5','Week 6','Week 7','Week 8','Week 9']):\n",
    "            if date in hist.index:\n",
    "                df.loc[sym, week] = np.ceil(hist.loc[date]['Close'] * 100) / 100\n",
    "    except Exception as e:\n",
    "        print(f\"Fetching Error for ticker {sym} : {e}\")"
   ]
  },
  {
   "cell_type": "code",
   "execution_count": 34,
   "id": "85620112-a83f-4282-8230-da3becb13380",
   "metadata": {},
   "outputs": [
    {
     "data": {
      "text/plain": [
       "['Stock.pkl']"
      ]
     },
     "execution_count": 34,
     "metadata": {},
     "output_type": "execute_result"
    }
   ],
   "source": [
    "joblib.dump(df,'Stock.pkl')"
   ]
  },
  {
   "cell_type": "markdown",
   "id": "dce28440-2adc-45a8-a4f1-008d60112113",
   "metadata": {},
   "source": [
    "Nifty Data Fetching"
   ]
  },
  {
   "cell_type": "code",
   "execution_count": 35,
   "id": "4c3b6ba1-57aa-4607-85d9-b8a4f57b033d",
   "metadata": {},
   "outputs": [],
   "source": [
    "nifty_df = pd.DataFrame(columns = ['Symbol'])\n",
    "nifty_df.set_index('Symbol',inplace=True)\n",
    "nifty_df['base'] = np.nan\n",
    "for i in range(1,10):\n",
    "    nifty_df[f\"Week {i}\"] = np.nan\n",
    "\n",
    "Symbol = '^NSEI'\n",
    "stock = yf.Ticker(Symbol)\n",
    "hist = stock.history(period='1y')\n",
    "for date,week in zip(dates,['base','Week 1','Week 2','Week 3','Week 4','Week 5','Week 6','Week 7','Week 8','Week 9']):\n",
    "    if date in hist.index:\n",
    "        nifty_df.loc[Symbol,week] = np.ceil(hist.loc[date]['Close'] * 100) / 100"
   ]
  },
  {
   "cell_type": "code",
   "execution_count": 36,
   "id": "cf505b79-322f-430a-92fb-34c6dc2a9dba",
   "metadata": {},
   "outputs": [
    {
     "data": {
      "text/html": [
       "<div>\n",
       "<style scoped>\n",
       "    .dataframe tbody tr th:only-of-type {\n",
       "        vertical-align: middle;\n",
       "    }\n",
       "\n",
       "    .dataframe tbody tr th {\n",
       "        vertical-align: top;\n",
       "    }\n",
       "\n",
       "    .dataframe thead th {\n",
       "        text-align: right;\n",
       "    }\n",
       "</style>\n",
       "<table border=\"1\" class=\"dataframe\">\n",
       "  <thead>\n",
       "    <tr style=\"text-align: right;\">\n",
       "      <th></th>\n",
       "      <th>base</th>\n",
       "      <th>Week 1</th>\n",
       "      <th>Week 2</th>\n",
       "      <th>Week 3</th>\n",
       "      <th>Week 4</th>\n",
       "      <th>Week 5</th>\n",
       "      <th>Week 6</th>\n",
       "      <th>Week 7</th>\n",
       "      <th>Week 8</th>\n",
       "      <th>Week 9</th>\n",
       "    </tr>\n",
       "    <tr>\n",
       "      <th>Symbol</th>\n",
       "      <th></th>\n",
       "      <th></th>\n",
       "      <th></th>\n",
       "      <th></th>\n",
       "      <th></th>\n",
       "      <th></th>\n",
       "      <th></th>\n",
       "      <th></th>\n",
       "      <th></th>\n",
       "      <th></th>\n",
       "    </tr>\n",
       "  </thead>\n",
       "  <tbody>\n",
       "    <tr>\n",
       "      <th>^NSEI</th>\n",
       "      <td>26178.95</td>\n",
       "      <td>23696.31</td>\n",
       "      <td>22829.16</td>\n",
       "      <td>24188.66</td>\n",
       "      <td>23587.5</td>\n",
       "      <td>24708.41</td>\n",
       "      <td>23349.91</td>\n",
       "      <td>24199.35</td>\n",
       "      <td>25057.35</td>\n",
       "      <td>26178.95</td>\n",
       "    </tr>\n",
       "  </tbody>\n",
       "</table>\n",
       "</div>"
      ],
      "text/plain": [
       "            base    Week 1    Week 2    Week 3   Week 4    Week 5    Week 6  \\\n",
       "Symbol                                                                        \n",
       "^NSEI   26178.95  23696.31  22829.16  24188.66  23587.5  24708.41  23349.91   \n",
       "\n",
       "          Week 7    Week 8    Week 9  \n",
       "Symbol                                \n",
       "^NSEI   24199.35  25057.35  26178.95  "
      ]
     },
     "execution_count": 36,
     "metadata": {},
     "output_type": "execute_result"
    }
   ],
   "source": [
    "nifty_df"
   ]
  },
  {
   "cell_type": "code",
   "execution_count": 37,
   "id": "187a7e54-3a5e-44ef-b470-89fb4e02e0a6",
   "metadata": {},
   "outputs": [
    {
     "data": {
      "text/plain": [
       "['Nifty.pkl']"
      ]
     },
     "execution_count": 37,
     "metadata": {},
     "output_type": "execute_result"
    }
   ],
   "source": [
    "joblib.dump(nifty_df,\"Nifty.pkl\")"
   ]
  },
  {
   "cell_type": "code",
   "execution_count": null,
   "id": "1a3c07ec-2d49-4ce3-a6eb-5de2288caa12",
   "metadata": {},
   "outputs": [],
   "source": []
  }
 ],
 "metadata": {
  "kernelspec": {
   "display_name": "Python 3 (ipykernel)",
   "language": "python",
   "name": "python3"
  },
  "language_info": {
   "codemirror_mode": {
    "name": "ipython",
    "version": 3
   },
   "file_extension": ".py",
   "mimetype": "text/x-python",
   "name": "python",
   "nbconvert_exporter": "python",
   "pygments_lexer": "ipython3",
   "version": "3.11.4"
  }
 },
 "nbformat": 4,
 "nbformat_minor": 5
}
